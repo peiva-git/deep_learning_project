{
 "cells": [
  {
   "cell_type": "markdown",
   "metadata": {
    "id": "view-in-github",
    "colab_type": "text"
   },
   "source": [
    "<a href=\"https://colab.research.google.com/github/peiva-git/deep_learning_project/blob/44-separare-i-notebook-in-file-separati/simple_ae_mnist.ipynb\" target=\"_parent\"><img src=\"https://colab.research.google.com/assets/colab-badge.svg\" alt=\"Open In Colab\"/></a>"
   ]
  },
  {
   "cell_type": "markdown",
   "metadata": {
    "collapsed": false,
    "id": "X3EkwOQTcZTV",
    "pycharm": {
     "name": "#%% md\n"
    }
   },
   "source": [
    "## Imports, definitions and setup"
   ]
  },
  {
   "cell_type": "code",
   "execution_count": null,
   "metadata": {
    "id": "Fi8roD-YcZTg",
    "pycharm": {
     "name": "#%%\n"
    }
   },
   "outputs": [],
   "source": [
    "!git clone https://github.com/peiva-git/deep_learning_project.git\n",
    "%cd deep_learning_project"
   ]
  },
  {
   "cell_type": "code",
   "execution_count": null,
   "metadata": {
    "id": "9S1e8RlycZTk",
    "pycharm": {
     "name": "#%%\n"
    }
   },
   "outputs": [],
   "source": [
    "import numpy as np\n",
    "import dlproject as dlp\n",
    "import matplotlib.pyplot as plt\n",
    "import os.path"
   ]
  },
  {
   "cell_type": "markdown",
   "metadata": {
    "collapsed": false,
    "id": "1jSFLq28cZTl",
    "pycharm": {
     "name": "#%% md\n"
    }
   },
   "source": [
    "### Load the MNIST dataset"
   ]
  },
  {
   "cell_type": "code",
   "execution_count": null,
   "metadata": {
    "id": "ru_EIKwR0bIV"
   },
   "outputs": [],
   "source": [
    "# Uncomment one line to select the desired noise level\n",
    "\n",
    "noise_level = 'high'\n",
    "# noise_level = 'med'\n",
    "# noise_level = 'low'\n",
    "\n",
    "if noise_level == 'high':\n",
    "  noise_value = 0.7\n",
    "elif noise_level == 'med':\n",
    "  noise_value = 0.4\n",
    "elif noise_level == 'low':\n",
    "  noise_value = 0.1"
   ]
  },
  {
   "cell_type": "code",
   "execution_count": null,
   "metadata": {
    "id": "M_jjq3Vb1mtU"
   },
   "outputs": [],
   "source": [
    "dataset_builder = dlp.data.MNISTDatasetBuilder()\n",
    "dataset_builder.preprocess_dataset_simple_ae(noise_value)\n",
    "train_data, test_data = dataset_builder.train_x, dataset_builder.test_x\n",
    "noisy_train_data, noisy_test_data = dataset_builder.noisy_train_data, dataset_builder.noisy_test_data"
   ]
  },
  {
   "cell_type": "markdown",
   "source": [
    "Display the first 10 noisy images."
   ],
   "metadata": {
    "id": "cG1qAblYto44"
   }
  },
  {
   "cell_type": "code",
   "execution_count": null,
   "metadata": {
    "id": "d9YWwj6Di7Ww"
   },
   "outputs": [],
   "source": [
    "number_of_previews = 10\n",
    "plt.figure(figsize=(20, 2))\n",
    "for i in range(1, number_of_previews + 1):\n",
    "    ax = plt.subplot(1, number_of_previews, i)\n",
    "    plt.imshow(noisy_train_data[i].reshape(28, 28))\n",
    "    plt.gray()\n",
    "    ax.get_xaxis().set_visible(False)\n",
    "    ax.get_yaxis().set_visible(False)\n",
    "plt.show()"
   ]
  },
  {
   "cell_type": "markdown",
   "metadata": {
    "collapsed": false,
    "id": "n3DBq4HEcZTm",
    "pycharm": {
     "name": "#%% md\n"
    }
   },
   "source": [
    "## Instantiate the model"
   ]
  },
  {
   "cell_type": "code",
   "execution_count": null,
   "metadata": {
    "id": "Kqtn7L-fcZTn",
    "pycharm": {
     "name": "#%%\n"
    }
   },
   "outputs": [],
   "source": [
    "autoencoder_mnist = dlp.models.SimpleAutoencoder(input_shape=(28, 28, 1))\n",
    "autoencoder_mnist.model.compile(optimizer='adam', loss='binary_crossentropy')\n",
    "model = autoencoder_mnist.model"
   ]
  },
  {
   "cell_type": "markdown",
   "metadata": {
    "collapsed": false,
    "id": "pr5x1LppcZTo",
    "pycharm": {
     "name": "#%% md\n"
    }
   },
   "source": [
    "## Train the model\n",
    "\n",
    "### Testing the model\n",
    "\n",
    "First, we train the model to reconstruct the image that's given as an input. The reconstructed images should be similar, but not exactly the same.\n",
    "We also save the model for later use."
   ]
  },
  {
   "cell_type": "code",
   "execution_count": null,
   "metadata": {
    "id": "1Q4gA0X4cZTq",
    "pycharm": {
     "name": "#%%\n"
    }
   },
   "outputs": [],
   "source": [
    "model.fit(\n",
    "    x=train_data,\n",
    "    y=train_data,\n",
    "    epochs=100,\n",
    "    batch_size=128,\n",
    "    shuffle=True,\n",
    "    validation_data=(test_data, test_data)\n",
    ")"
   ]
  },
  {
   "cell_type": "markdown",
   "metadata": {
    "id": "3NdwKKBYq-tn"
   },
   "source": [
    "Display the results."
   ]
  },
  {
   "cell_type": "code",
   "execution_count": null,
   "metadata": {
    "id": "BEaaa4qHiLAf"
   },
   "outputs": [],
   "source": [
    "decoded_imgs = model.predict(test_data)\n",
    "\n",
    "number_of_previews = 10\n",
    "plt.figure(figsize=(20, 4))\n",
    "for i in range(1, number_of_previews + 1):\n",
    "    # Display original\n",
    "    ax = plt.subplot(2, number_of_previews, i)\n",
    "    plt.imshow(test_data[i].reshape(28, 28))\n",
    "    plt.gray()\n",
    "    ax.get_xaxis().set_visible(False)\n",
    "    ax.get_yaxis().set_visible(False)\n",
    "\n",
    "    # Display reconstruction\n",
    "    ax = plt.subplot(2, number_of_previews, i + number_of_previews)\n",
    "    plt.imshow(decoded_imgs[i].reshape(28, 28))\n",
    "    plt.gray()\n",
    "    ax.get_xaxis().set_visible(False)\n",
    "    ax.get_yaxis().set_visible(False)\n",
    "plt.show()"
   ]
  },
  {
   "cell_type": "markdown",
   "metadata": {
    "collapsed": false,
    "id": "e9fqC677cZTr",
    "pycharm": {
     "name": "#%% md\n"
    }
   },
   "source": [
    "### Denoise images\n",
    "\n",
    "Secondly, we retrain the model to reconstruct the image from a noisy input."
   ]
  },
  {
   "cell_type": "code",
   "execution_count": null,
   "metadata": {
    "id": "4vFCM3wXcZTs",
    "pycharm": {
     "name": "#%%\n"
    }
   },
   "outputs": [],
   "source": [
    "from tensorflow.keras.saving import load_model\n",
    "\n",
    "model_path = os.path.join(os.getcwd(), 'models',\n",
    "                               f'{model.name}_mnist_{noise_level}_noise.keras')\n",
    "\n",
    "if os.path.exists(model_path):\n",
    "  model = load_model(model_path)\n",
    "else:\n",
    "  if not os.path.exists(os.path.join(os.getcwd(), 'models')):\n",
    "    os.mkdir(os.path.join(os.getcwd(), 'models'))\n",
    "\n",
    "  model.fit(\n",
    "      x=noisy_train_data,\n",
    "      y=train_data,\n",
    "      epochs=100,\n",
    "      batch_size=128,\n",
    "      shuffle=True,\n",
    "      validation_data=(noisy_test_data, test_data)\n",
    "  )\n",
    "\n",
    "model.save(os.path.join('models', f'{model.name}_mnist_{noise_level}_noise.keras'))"
   ]
  },
  {
   "cell_type": "markdown",
   "metadata": {
    "id": "3YM4QRuxovdn"
   },
   "source": [
    "Let's take a look at the results. Top, the ground truth digits fed to the network, than the noisy version and finally the digits are reconstructed by the network. It seems to work pretty well."
   ]
  },
  {
   "cell_type": "code",
   "execution_count": null,
   "metadata": {
    "id": "124Y8PmglfBk"
   },
   "outputs": [],
   "source": [
    "dlp.data.visualize.display_random_images(test_data, noisy_test_data, model.predict(noisy_test_data))"
   ]
  },
  {
   "cell_type": "markdown",
   "metadata": {
    "id": "njg5iRwn8v8Y"
   },
   "source": [
    "Compute predictions for the entire noisy MNIST dataset."
   ]
  },
  {
   "cell_type": "markdown",
   "metadata": {
    "id": "JmvzDlVb2vx4"
   },
   "source": [
    "Compute PSNR and SSIM for model evaluation."
   ]
  },
  {
   "cell_type": "code",
   "execution_count": null,
   "metadata": {
    "id": "_ubPE6-w7vM2",
    "colab": {
     "base_uri": "https://localhost:8080/"
    },
    "outputId": "a6094732-e1a2-48e1-a05e-ddc4800229c8"
   },
   "outputs": [
    {
     "output_type": "stream",
     "name": "stdout",
     "text": [
      "313/313 [==============================] - 1s 2ms/step\n",
      "65.75077366207717\n",
      "0.9991426\n"
     ]
    }
   ],
   "source": [
    "reconstructed_images = model.predict(noisy_test_data)\n",
    "print(dlp.evaluation.compute_mean_psnr(test_data, reconstructed_images))\n",
    "print(dlp.evaluation.compute_mean_ssim(test_data, reconstructed_images))"
   ]
  }
 ],
 "metadata": {
  "accelerator": "GPU",
  "colab": {
   "gpuType": "T4",
   "provenance": [],
   "include_colab_link": true
  },
  "kernelspec": {
   "display_name": "Python 3",
   "name": "python3"
  },
  "language_info": {
   "name": "python"
  }
 },
 "nbformat": 4,
 "nbformat_minor": 0
}