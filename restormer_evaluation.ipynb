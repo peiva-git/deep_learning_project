{
  "nbformat": 4,
  "nbformat_minor": 0,
  "metadata": {
    "colab": {
      "provenance": [],
      "gpuType": "T4",
      "authorship_tag": "ABX9TyOnDlYWrExAHZA2JGUSftgN",
      "include_colab_link": true
    },
    "kernelspec": {
      "name": "python3",
      "display_name": "Python 3"
    },
    "language_info": {
      "name": "python"
    },
    "accelerator": "GPU"
  },
  "cells": [
    {
      "cell_type": "markdown",
      "metadata": {
        "id": "view-in-github",
        "colab_type": "text"
      },
      "source": [
        "<a href=\"https://colab.research.google.com/github/peiva-git/deep_learning_project/blob/68-restormer-evaluation/restormer_evaluation.ipynb\" target=\"_parent\"><img src=\"https://colab.research.google.com/assets/colab-badge.svg\" alt=\"Open In Colab\"/></a>"
      ]
    },
    {
      "cell_type": "markdown",
      "source": [
        "# Restormer Evaluation\n",
        "---\n",
        "PSNR and SSIM metrics are computed"
      ],
      "metadata": {
        "id": "zwxXXSN4raRl"
      }
    },
    {
      "cell_type": "code",
      "source": [
        "!git clone https://github.com/peiva-git/deep_learning_project.git\n",
        "%cd deep_learning_project"
      ],
      "metadata": {
        "id": "IGx0ZW74tXb0"
      },
      "execution_count": null,
      "outputs": []
    },
    {
      "cell_type": "markdown",
      "source": [
        "Imports"
      ],
      "metadata": {
        "id": "3akFuqOsn6-c"
      }
    },
    {
      "cell_type": "code",
      "execution_count": 4,
      "metadata": {
        "id": "0FGrNvStrY5E"
      },
      "outputs": [],
      "source": [
        "import os\n",
        "from google.colab import files\n",
        "from zipfile import ZipFile\n",
        "import cv2\n",
        "from skimage.metrics import peak_signal_noise_ratio as psnr\n",
        "from skimage.metrics import structural_similarity as ssim\n",
        "import numpy as np\n",
        "import dlproject as dlp"
      ]
    },
    {
      "cell_type": "code",
      "source": [
        "import numpy as np\n",
        "\n",
        "def sort_paths_by_index(paths):\n",
        "    return sorted(paths, key=lambda x: int(x.split('_')[-1].split('.')[0]))\n",
        "\n",
        "def compute_psnr_ssim_metrics_from_directories(original_dir, restored_dir):\n",
        "    original_images = sort_paths_by_index(os.listdir(original_dir))\n",
        "    restored_images = sort_paths_by_index(os.listdir(restored_dir))\n",
        "\n",
        "    num_pairs = min(len(original_images), len(restored_images))\n",
        "\n",
        "    ssim_values = []\n",
        "    psnr_values = []\n",
        "\n",
        "    for i in range(num_pairs):\n",
        "        original_image_path = os.path.join(original_dir, original_images[i])\n",
        "        restored_image_path = os.path.join(restored_dir, restored_images[i])\n",
        "\n",
        "        original_image = cv2.imread(original_image_path)\n",
        "        restored_image = cv2.imread(restored_image_path)\n",
        "\n",
        "        psnr_values.append(psnr(restored_image, original_image))\n",
        "        ssim_values.append(ssim(restored_image, original_image, channel_axis=2))\n",
        "\n",
        "    mean_computed_psnr = np.mean(psnr_values)\n",
        "    mean_computed_ssim = np.mean(ssim_values)\n",
        "    std_psnr = np.std(psnr_values)\n",
        "    std_ssim = np.std(ssim_values)\n",
        "\n",
        "    print(f'Mean PSNR: {mean_computed_psnr:.2f}, Std PSNR: {std_psnr:.2f}')\n",
        "    print(f'Mean SSIM: {mean_computed_ssim:.4f}, Std SSIM: {std_ssim:.4f}')\n",
        "\n",
        "    return mean_computed_psnr, mean_computed_ssim, std_psnr, std_ssim"
      ],
      "metadata": {
        "id": "cYsWHUQBxKeb"
      },
      "execution_count": 5,
      "outputs": []
    },
    {
      "cell_type": "markdown",
      "source": [
        "Upload a .zip folder with original and restored images (in 2 different directories)"
      ],
      "metadata": {
        "id": "ug1c-z9mn-nk"
      }
    },
    {
      "cell_type": "code",
      "source": [
        "# Upload the zip file\n",
        "uploaded = files.upload()"
      ],
      "metadata": {
        "id": "RyjSe4M9vHFS"
      },
      "execution_count": null,
      "outputs": []
    },
    {
      "cell_type": "markdown",
      "source": [
        "Extract the .zip folder"
      ],
      "metadata": {
        "id": "02d2pf8LoOMr"
      }
    },
    {
      "cell_type": "code",
      "source": [
        "# Extract the contents of the zip file\n",
        "zip_filename = next(iter(uploaded))\n",
        "\n",
        "with ZipFile(zip_filename, 'r') as zip_ref:\n",
        "    zip_ref.extractall('/content/deep_learning_project/eval_dir')\n",
        "\n",
        "# Get the base name of the file\n",
        "base_name = os.path.basename(zip_filename)\n",
        "\n",
        "# Remove the file extension\n",
        "filename = os.path.splitext(base_name)[0]\n",
        "\n",
        "print(filename, base_name)"
      ],
      "metadata": {
        "id": "bUYNt1033XGp"
      },
      "execution_count": null,
      "outputs": []
    },
    {
      "cell_type": "markdown",
      "source": [
        "Compute and display PSNR and SSIM metrics"
      ],
      "metadata": {
        "id": "rIH1vHEjoRrC"
      }
    },
    {
      "cell_type": "code",
      "source": [
        "# Specify the degraded and restored directories\n",
        "original_dir = os.path.join('/content/deep_learning_project/eval_dir', 'original')\n",
        "restored_dir = os.path.join('/content/deep_learning_project/eval_dir', 'restored')\n",
        "\n",
        "# Compute PSNR and SSIM metrics\n",
        "mean_psnr_value, mean_ssim_value, std_psnr, std_ssim = compute_psnr_ssim_metrics_from_directories(original_dir, restored_dir)\n",
        "\n",
        "# Print the results\n",
        "print(f'Mean PSNR: {mean_psnr_value:.2f}')\n",
        "print(f'Mean SSIM: {mean_ssim_value:.4f}')"
      ],
      "metadata": {
        "id": "fdKS0-VwvDIG"
      },
      "execution_count": null,
      "outputs": []
    }
  ]
}