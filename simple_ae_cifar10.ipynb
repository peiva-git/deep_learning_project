{
  "cells": [
    {
      "cell_type": "markdown",
      "metadata": {
        "id": "view-in-github",
        "colab_type": "text"
      },
      "source": [
        "<a href=\"https://colab.research.google.com/github/peiva-git/deep_learning_project/blob/44-separare-i-notebook-in-file-separati/simple_ae_cifar10.ipynb\" target=\"_parent\"><img src=\"https://colab.research.google.com/assets/colab-badge.svg\" alt=\"Open In Colab\"/></a>"
      ]
    },
    {
      "cell_type": "markdown",
      "metadata": {
        "collapsed": false,
        "id": "X3EkwOQTcZTV",
        "pycharm": {
          "name": "#%% md\n"
        }
      },
      "source": [
        "## Imports, definitions and setup"
      ]
    },
    {
      "cell_type": "code",
      "execution_count": null,
      "metadata": {
        "id": "Fi8roD-YcZTg",
        "pycharm": {
          "name": "#%%\n"
        }
      },
      "outputs": [],
      "source": [
        "!git clone https://github.com/peiva-git/deep_learning_project.git\n",
        "%cd deep_learning_project"
      ]
    },
    {
      "cell_type": "code",
      "execution_count": 2,
      "metadata": {
        "id": "9S1e8RlycZTk",
        "pycharm": {
          "name": "#%%\n"
        }
      },
      "outputs": [],
      "source": [
        "import dlproject as dlp\n",
        "import matplotlib.pyplot as plt\n",
        "import os.path\n",
        "import numpy as np"
      ]
    },
    {
      "cell_type": "markdown",
      "metadata": {
        "id": "1r9m6jezt8Fj"
      },
      "source": [
        "# Model with CIFAR10 dataset"
      ]
    },
    {
      "cell_type": "markdown",
      "metadata": {
        "id": "U9aHipb0GHos"
      },
      "source": [
        "## Load the CIFAR10 dataset"
      ]
    },
    {
      "cell_type": "code",
      "execution_count": null,
      "metadata": {
        "id": "U-zP2ceouChX"
      },
      "outputs": [],
      "source": [
        "dataset_builder = dlp.data.CIFAR10DatasetBuilder()\n",
        "dataset_builder.preprocess_dataset_simple_ae(0.1)\n",
        "train_data, test_data = dataset_builder.train_x, dataset_builder.test_x\n",
        "noisy_train_data, noisy_test_data = dataset_builder.noisy_train_data, dataset_builder.noisy_test_data"
      ]
    },
    {
      "cell_type": "markdown",
      "metadata": {
        "id": "pJNsMBZTFLhz"
      },
      "source": [
        "## Istantiate the model for CIFAR10 dataset"
      ]
    },
    {
      "cell_type": "code",
      "execution_count": 4,
      "metadata": {
        "id": "7DAcBZWw2zlh"
      },
      "outputs": [],
      "source": [
        "autoencoder_cifar = dlp.models.SimpleAutoencoder(input_shape=(32, 32, 3))\n",
        "autoencoder_cifar.model.compile(optimizer='adam', loss='binary_crossentropy')\n",
        "model = autoencoder_cifar.model"
      ]
    },
    {
      "cell_type": "markdown",
      "metadata": {
        "id": "bE2MTxR2FYCo"
      },
      "source": [
        "# Train the CIFAR10 model\n",
        "\n"
      ]
    },
    {
      "cell_type": "code",
      "execution_count": 5,
      "metadata": {
        "id": "ZnDhpmjlJEGq"
      },
      "outputs": [],
      "source": [
        "from tensorflow.keras.saving import load_model\n",
        "\n",
        "model_path = os.path.join(os.getcwd(), 'models', f'{model.name}_cifar_low_noise.keras')\n",
        "\n",
        "if os.path.exists(model_path):\n",
        "  model = load_model(model_path)\n",
        "else:\n",
        "  if not os.path.exists(os.path.join(os.getcwd(), 'models')):\n",
        "    os.mkdir(os.path.join(os.getcwd(), 'models'))\n",
        "\n",
        "  model.fit(\n",
        "      x=noisy_train_data,\n",
        "      y=train_data,\n",
        "      epochs=100,\n",
        "      batch_size=128,\n",
        "      shuffle=True,\n",
        "      validation_data=(noisy_test_data, test_data)\n",
        "  )\n",
        "  autoencoder_cifar.model.save(os.path.join(os.getcwd(), 'models', f'{model.name}_cifar.keras'))"
      ]
    },
    {
      "cell_type": "markdown",
      "metadata": {
        "id": "UnS7Qc0AEzjk"
      },
      "source": [
        "Display some results."
      ]
    },
    {
      "cell_type": "code",
      "execution_count": null,
      "metadata": {
        "id": "hquMd2cQBcar"
      },
      "outputs": [],
      "source": [
        "reconstructed_images = model.predict(noisy_test_data)\n",
        "dlp.data.visualize.display_random_images(test_data, noisy_test_data, reconstructed_images, num_images=10)"
      ]
    },
    {
      "cell_type": "markdown",
      "metadata": {
        "id": "iEyKILVdEslc"
      },
      "source": [
        "Compute and display the PSNR and SSIM metrics."
      ]
    },
    {
      "cell_type": "code",
      "execution_count": null,
      "metadata": {
        "id": "nRyB-rB1ETV5"
      },
      "outputs": [],
      "source": [
        "print(dlp.evaluation.compute_mean_psnr(test_data, reconstructed_images))\n",
        "print(dlp.evaluation.compute_mean_ssim(test_data, reconstructed_images))"
      ]
    }
  ],
  "metadata": {
    "accelerator": "GPU",
    "colab": {
      "gpuType": "T4",
      "provenance": [],
      "toc_visible": true,
      "include_colab_link": true
    },
    "kernelspec": {
      "display_name": "Python 3",
      "name": "python3"
    },
    "language_info": {
      "name": "python"
    }
  },
  "nbformat": 4,
  "nbformat_minor": 0
}